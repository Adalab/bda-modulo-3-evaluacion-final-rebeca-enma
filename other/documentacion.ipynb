{
 "cells": [
  {
   "cell_type": "markdown",
   "metadata": {},
   "source": [
    "| Columna                       | Nº de Datos | Frecuencia de Valores                 | Datos Únicos | Tipo de Datos | Datos Nulos | Datos Duplicados | Descripcion                                         |\n",
    "|-------------------------------|-------------|--------------------------------------|---------------|---------------|-------------|------------------|-----------------------------------------------------------------|\n",
    "| LOYALTY_NUMBER                | 403760      | 48 (974875, 736504, 890702, ...)      | 16737         | int64         | 0           | 387023           | Número de identificación de lealtad del cliente                  |\n",
    "| YEAR                          | 403760      | 2017 (201,738), 2018 (202,022)        | 2             | int64         | 0           | 403,758          | Año de la actividad registrada                                  |\n",
    "| MONTH                         | 403760      | 11 (33663), 10 (33662), ...           | 12            | int64         | 0           | 403,748          | Mes de la actividad registrada                                  |\n",
    "| FLIGHTS_BOOKED               | 403760      | 22                                     | 22            | int64         | 0           | 403,738          | Número de vuelos reservados por el cliente                      |\n",
    "| FLIGHTS_WITH_COMPANIONS      | 403760      | 12                                     | 12            | int64         | 0           | 403,748          | Número de vuelos reservados con compañeros por el cliente      |\n",
    "| TOTAL_FLIGHTS                | 403760      | 33                                     | 33            | int64         | 0           | 403,727          | Total de vuelos reservados por el cliente                       |\n",
    "| DISTANCE                      | 403760      | 4,746                                  | 4,746         | int64         | 0           | 399,014          | Distancia total recorrida en vuelos por el cliente             |\n",
    "| POINTS_ACCUMULATED            | 403760      | 1,549                                  | 1,549         | float64       | 0           | 402,211          | Puntos acumulados por el cliente                                |\n",
    "| POINTS_REDEEMED               | 403760      | 587                                    | 587           | int64         | 0           | 403,173          | Puntos canjeados por el cliente                                 |\n",
    "| DOLLAR_COST_POINTS_REDEEMED  | 403760      | 49                                     | 49            | int64         | 0           | 403,711          | Costo en dólares de los puntos canjeados por el cliente         |\n",
    "| COUNTRY                       | 403760      | 1 (Canada)                            | 1             | object        | 0           | 403,759          | País de residencia del cliente                                  |\n",
    "| PROVINCE                      | 403760      | 11                                     | 11            | object        | 0           | 403,749          | Provincia de residencia del cliente                              |\n",
    "| CITY                          | 403760      | 29                                     | 29            | object        | 0           | 403,731          | Ciudad de residencia del cliente                                 |\n",
    "| POSTAL_CODE                   | 403760      | 55                                     | 55            | object        | 0           | 403,705          | Código postal de la dirección del cliente                        |\n",
    "| GENDER                        | 403760      | 2 (Female: 202,757, Male: 201,003)    | 2             | object        | 0           | 403,758          | Género del cliente                                              |\n",
    "| EDUCATION                     | 403760      | 5                                      | 5             | object        | 0           | 403,755          | Nivel educativo del cliente                                     |\n",
    "| SALARY                        | 403760      | 5,890                                  | 5,890         | float64       | 102,260     | 397,869          | Salario anual del cliente                                        |\n",
    "| MARITAL_STATUS                | 403760      | 3                                      | 3             | object        | 0           | 403,757          | Estado civil del cliente                                         |\n",
    "| LOYALTY_CARD                  | 403760      | 3                                      | 3             | object        | 0           | 403,757          | Tipo de tarjeta de lealtad del cliente                           |\n",
    "| CLV                           | 403760      | 7,984                                  | 7,984         | float64       | 0           | 395,776          | Valor de por vida del cliente                                    |\n",
    "| ENROLLMENT_TYPE               | 403760      | 2                                      | 2             | object        | 0           | 403,758          | Tipo de inscripción del cliente                                 |\n",
    "| ENROLLMENT_YEAR               | 403760      | 7                                      | 7             | int64         | 0           | 403,753          | Año de inscripción del cliente                                  |\n",
    "| ENROLLMENT_MONTH              | 403760      | 12                                     | 12            | int64         | 0           | 403,748          | Mes de inscripción del cliente                                  |\n",
    "| CANCELLATION_YEAR             | 403760      | 6                                      | 6             | float64       | 354,110     | 403,753          | Año de cancelación del cliente                                  |\n",
    "| CANCELLATION_MONTH            | 403760      | 12                                     | 12            | float64       | 354,110     | 403,747          | Mes de cancelación del cliente                                  |"
   ]
  }
 ],
 "metadata": {
  "language_info": {
   "name": "python"
  }
 },
 "nbformat": 4,
 "nbformat_minor": 2
}
